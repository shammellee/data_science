{
 "cells": [
  {
   "cell_type": "markdown",
   "metadata": {},
   "source": [
    "### randomness"
   ]
  },
  {
   "cell_type": "code",
   "execution_count": 3,
   "metadata": {
    "collapsed": false
   },
   "outputs": [],
   "source": [
    "import random"
   ]
  },
  {
   "cell_type": "code",
   "execution_count": 5,
   "metadata": {
    "collapsed": true
   },
   "outputs": [],
   "source": [
    "four_uniform_randoms = [random.random() for _ in range(4)]"
   ]
  },
  {
   "cell_type": "code",
   "execution_count": 6,
   "metadata": {
    "collapsed": false
   },
   "outputs": [
    {
     "data": {
      "text/plain": [
       "[0.48681201235894545,\n",
       " 0.08441320982422729,\n",
       " 0.3886782865836754,\n",
       " 0.3184048625016159]"
      ]
     },
     "execution_count": 6,
     "metadata": {},
     "output_type": "execute_result"
    }
   ],
   "source": [
    "four_uniform_randoms"
   ]
  },
  {
   "cell_type": "markdown",
   "metadata": {},
   "source": [
    "### reproducible results"
   ]
  },
  {
   "cell_type": "code",
   "execution_count": 10,
   "metadata": {
    "collapsed": false
   },
   "outputs": [
    {
     "name": "stdout",
     "output_type": "stream",
     "text": [
      "0.57140259469\n",
      "0.57140259469\n"
     ]
    }
   ],
   "source": [
    "random.seed(10)\n",
    "print random.random()\n",
    "random.seed(10)\n",
    "print random.random()"
   ]
  },
  {
   "cell_type": "markdown",
   "metadata": {},
   "source": [
    "### `randrange()`"
   ]
  },
  {
   "cell_type": "code",
   "execution_count": 18,
   "metadata": {
    "collapsed": false
   },
   "outputs": [
    {
     "data": {
      "text/plain": [
       "5"
      ]
     },
     "execution_count": 18,
     "metadata": {},
     "output_type": "execute_result"
    }
   ],
   "source": [
    "# range between 0 and 9\n",
    "random.randrange(10)"
   ]
  },
  {
   "cell_type": "code",
   "execution_count": 25,
   "metadata": {
    "collapsed": false
   },
   "outputs": [
    {
     "data": {
      "text/plain": [
       "4"
      ]
     },
     "execution_count": 25,
     "metadata": {},
     "output_type": "execute_result"
    }
   ],
   "source": [
    "# range between 3 and 6\n",
    "random.randrange(3,6)"
   ]
  },
  {
   "cell_type": "markdown",
   "metadata": {},
   "source": [
    "### `shuffle()`"
   ]
  },
  {
   "cell_type": "code",
   "execution_count": 57,
   "metadata": {
    "collapsed": false,
    "scrolled": false
   },
   "outputs": [
    {
     "data": {
      "text/plain": [
       "['7 of hearts',\n",
       " '5 of hearts',\n",
       " '2 of hearts',\n",
       " 'K of hearts',\n",
       " '8 of spades',\n",
       " '8 of diamonds',\n",
       " '10 of diamonds',\n",
       " 'J of spades',\n",
       " '6 of spades',\n",
       " 'K of spades',\n",
       " '9 of hearts',\n",
       " '4 of clubs',\n",
       " 'K of clubs',\n",
       " '7 of spades',\n",
       " '2 of clubs',\n",
       " '2 of spades',\n",
       " 'A of diamonds',\n",
       " 'J of clubs',\n",
       " '10 of spades',\n",
       " '9 of diamonds',\n",
       " '9 of spades',\n",
       " '5 of diamonds',\n",
       " '10 of hearts',\n",
       " 'J of hearts',\n",
       " '5 of spades',\n",
       " '6 of hearts',\n",
       " '3 of spades',\n",
       " '3 of hearts',\n",
       " '10 of clubs',\n",
       " 'Q of diamonds',\n",
       " '6 of diamonds',\n",
       " '8 of hearts',\n",
       " 'Q of hearts',\n",
       " '7 of clubs',\n",
       " '9 of clubs',\n",
       " '4 of spades',\n",
       " '6 of clubs',\n",
       " '3 of diamonds',\n",
       " '3 of clubs',\n",
       " '4 of diamonds',\n",
       " '8 of clubs',\n",
       " '4 of hearts',\n",
       " 'A of hearts',\n",
       " 'A of spades',\n",
       " '7 of diamonds',\n",
       " 'J of diamonds',\n",
       " 'A of clubs',\n",
       " '5 of clubs',\n",
       " 'K of diamonds',\n",
       " 'Q of clubs',\n",
       " 'Q of spades',\n",
       " '2 of diamonds']"
      ]
     },
     "metadata": {},
     "output_type": "display_data"
    }
   ],
   "source": [
    "from IPython.display import display\n",
    "\n",
    "cards = ['{pip} of {suit}'.format(pip=pip,suit=suit)\n",
    "         for suit in ['hearts','clubs','diamonds','spades']\n",
    "         for pip in ['2','3','4','5','6','7','8','9','10','J','Q','K','A']]\n",
    "\n",
    "random.shuffle(cards)\n",
    "display(cards)"
   ]
  },
  {
   "cell_type": "markdown",
   "metadata": {},
   "source": [
    "### randomly pick single list element"
   ]
  },
  {
   "cell_type": "code",
   "execution_count": 84,
   "metadata": {
    "collapsed": false
   },
   "outputs": [
    {
     "data": {
      "text/plain": [
       "'3 of clubs'"
      ]
     },
     "execution_count": 84,
     "metadata": {},
     "output_type": "execute_result"
    }
   ],
   "source": [
    "random.choice(cards)"
   ]
  },
  {
   "cell_type": "markdown",
   "metadata": {},
   "source": [
    "### randomly pick multiple unique list elements"
   ]
  },
  {
   "cell_type": "code",
   "execution_count": 85,
   "metadata": {
    "collapsed": false
   },
   "outputs": [
    {
     "data": {
      "text/plain": [
       "['9 of hearts',\n",
       " '7 of diamonds',\n",
       " '3 of diamonds',\n",
       " 'K of hearts',\n",
       " '5 of diamonds']"
      ]
     },
     "execution_count": 85,
     "metadata": {},
     "output_type": "execute_result"
    }
   ],
   "source": [
    "random.sample(cards,5)"
   ]
  },
  {
   "cell_type": "markdown",
   "metadata": {},
   "source": [
    "### zip"
   ]
  },
  {
   "cell_type": "code",
   "execution_count": 93,
   "metadata": {
    "collapsed": false
   },
   "outputs": [
    {
     "data": {
      "text/plain": [
       "[('a', 1), ('b', 2), ('c', 3)]"
      ]
     },
     "execution_count": 93,
     "metadata": {},
     "output_type": "execute_result"
    }
   ],
   "source": [
    "letters = ['a','b','c']\n",
    "numbers = [1,2,3]\n",
    "pairs = zip(letters,numbers)\n",
    "\n",
    "pairs"
   ]
  },
  {
   "cell_type": "markdown",
   "metadata": {},
   "source": [
    "### unzip"
   ]
  },
  {
   "cell_type": "code",
   "execution_count": 94,
   "metadata": {
    "collapsed": false
   },
   "outputs": [
    {
     "data": {
      "text/plain": [
       "(('a', 'b', 'c'), (1, 2, 3))"
      ]
     },
     "execution_count": 94,
     "metadata": {},
     "output_type": "execute_result"
    }
   ],
   "source": [
    "letters2,numbers2 = zip(*pairs)\n",
    "\n",
    "letters2,numbers2"
   ]
  }
 ],
 "metadata": {
  "kernelspec": {
   "display_name": "Python 2",
   "language": "python",
   "name": "python2"
  },
  "language_info": {
   "codemirror_mode": {
    "name": "ipython",
    "version": 2
   },
   "file_extension": ".py",
   "mimetype": "text/x-python",
   "name": "python",
   "nbconvert_exporter": "python",
   "pygments_lexer": "ipython2",
   "version": "2.7.12"
  }
 },
 "nbformat": 4,
 "nbformat_minor": 1
}
