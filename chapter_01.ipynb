{
 "cells": [
  {
   "cell_type": "code",
   "execution_count": 21,
   "metadata": {
    "collapsed": true
   },
   "outputs": [],
   "source": [
    "users = [\n",
    "    {\"id\":0,\"name\":\"Hero\"}\n",
    "    ,{\"id\":1,\"name\":\"Dunn\"}\n",
    "    ,{\"id\":2,\"name\":\"Sue\"}\n",
    "    ,{\"id\":3,\"name\":\"Chi\"}\n",
    "    ,{\"id\":4,\"name\":\"Thor\"}\n",
    "    ,{\"id\":5,\"name\":\"Clive\"}\n",
    "    ,{\"id\":6,\"name\":\"Hicks\"}\n",
    "    ,{\"id\":7,\"name\":\"Devin\"}\n",
    "    ,{\"id\":8,\"name\":\"Kate\"}\n",
    "    ,{\"id\":9,\"name\":\"Klein\"}\n",
    "]"
   ]
  },
  {
   "cell_type": "code",
   "execution_count": 22,
   "metadata": {
    "collapsed": false
   },
   "outputs": [],
   "source": [
    "friendships = [(0,1),(0,2),(1,2),(1,3),(2,3),(3,4),(4,5),(5,6),(5,7),(6,8),(7,8),(8,9)]"
   ]
  },
  {
   "cell_type": "code",
   "execution_count": 23,
   "metadata": {
    "collapsed": true
   },
   "outputs": [],
   "source": [
    "for user in users:\n",
    "    user['friends'] = []"
   ]
  },
  {
   "cell_type": "code",
   "execution_count": 25,
   "metadata": {
    "collapsed": true
   },
   "outputs": [],
   "source": [
    "for i,j in friendships:\n",
    "    users[i]['friends'].append(users[j])\n",
    "    users[j]['friends'].append(users[i])"
   ]
  },
  {
   "cell_type": "code",
   "execution_count": 46,
   "metadata": {
    "collapsed": true
   },
   "outputs": [],
   "source": [
    "def number_of_friends(user):\n",
    "    return len(user['friends'])"
   ]
  },
  {
   "cell_type": "code",
   "execution_count": 47,
   "metadata": {
    "collapsed": false
   },
   "outputs": [],
   "source": [
    "total_connections = sum(number_of_friends(user) for user in users)"
   ]
  },
  {
   "cell_type": "markdown",
   "metadata": {},
   "source": [
    "### floating point division"
   ]
  },
  {
   "cell_type": "code",
   "execution_count": 50,
   "metadata": {
    "collapsed": false
   },
   "outputs": [],
   "source": [
    "from __future__ import division\n",
    "num_users = len(users)\n",
    "avg_connections = total_connections / num_users"
   ]
  },
  {
   "cell_type": "markdown",
   "metadata": {},
   "source": [
    "### number of friends by user id"
   ]
  },
  {
   "cell_type": "code",
   "execution_count": 55,
   "metadata": {
    "collapsed": false
   },
   "outputs": [
    {
     "data": {
      "text/plain": [
       "[(1, 3),\n",
       " (2, 3),\n",
       " (3, 3),\n",
       " (5, 3),\n",
       " (8, 3),\n",
       " (0, 2),\n",
       " (4, 2),\n",
       " (6, 2),\n",
       " (7, 2),\n",
       " (9, 1)]"
      ]
     },
     "execution_count": 55,
     "metadata": {},
     "output_type": "execute_result"
    }
   ],
   "source": [
    "num_friends_by_id = [(user['id'],number_of_friends(user)) for user in users]\n",
    "sorted(num_friends_by_id, key=lambda (user_id,num_friends): num_friends, reverse=True)"
   ]
  },
  {
   "cell_type": "code",
   "execution_count": 57,
   "metadata": {
    "collapsed": true
   },
   "outputs": [],
   "source": [
    "def friends_of_friend_ids_bad(user):\n",
    "    return [foaf['id']\n",
    "           for friend in user['friends']\n",
    "           for foaf in friend['friends']]"
   ]
  },
  {
   "cell_type": "code",
   "execution_count": 59,
   "metadata": {
    "collapsed": false
   },
   "outputs": [
    {
     "data": {
      "text/plain": [
       "[0, 2, 3, 0, 1, 3]"
      ]
     },
     "execution_count": 59,
     "metadata": {},
     "output_type": "execute_result"
    }
   ],
   "source": [
    "friends_of_friend_ids_bad(users[0])"
   ]
  },
  {
   "cell_type": "code",
   "execution_count": 61,
   "metadata": {
    "collapsed": false
   },
   "outputs": [],
   "source": [
    "from collections import Counter\n",
    "\n",
    "def not_the_same(user,other_user):\n",
    "    return user['id'] != other_user['id']\n",
    "\n",
    "def not_friends(user,other_user):\n",
    "    return all(not_the_same(friend,other_user) for friend in user['friends'])\n",
    "\n",
    "def friends_of_friend_ids(user):\n",
    "    return Counter(foaf['id']\n",
    "                  for friend in user['friends']\n",
    "                  for foaf in friend['friends']\n",
    "                  if not_the_same(user,foaf)\n",
    "                  and not_friends(user,foaf))"
   ]
  },
  {
   "cell_type": "markdown",
   "metadata": {},
   "source": [
    "### users with shared interests"
   ]
  },
  {
   "cell_type": "code",
   "execution_count": 88,
   "metadata": {
    "collapsed": true
   },
   "outputs": [],
   "source": [
    "interests = [\n",
    "  (0,'Hadoop'),(0,'Big Data'),(0,'HBase'),(0,'Java'),(0,'Spark'),(0,'Storm'),(0,'Cassandra')\n",
    "  ,(1,'NoSQL'),(1,'MongoDB'),(1,'Cassandra'),(1,'HBase'),(1,'Postgres')\n",
    "  ,(2,'Python'),(2,'scikit-learn'),(2,'scipy'),(2,'numpy'),(2,'statsmodels'),(2,'pandas')\n",
    "  ,(3,'R'),(3,'Python'),(3,'statistics'),(3,'regression'),(3,'probability')\n",
    "  ,(4,'machine learning'),(4,'regression'),(4,'decision trees'),(4,'libsvm')\n",
    "  ,(5,'Python'),(5,'R'),(5,'Java'),(5,'C++'),(5,'Haskell'),(5,'programming languages'),(5,'statistics')\n",
    "  ,(6,'probability'),(6,'mathematics'),(6,'theory')\n",
    "  ,(7,'machine learning'),(7,'scikit-learn'),(7,'Mahout'),(7,'neural networks')\n",
    "  ,(8,'neural networks'),(8,'deep learning'),(8,'Big Data'),(8,'artificial intelligence')\n",
    "  ,(9,'Hadoop'),(9,'Java'),(9,'MapReduce'),(9,'Big Data')\n",
    "]"
   ]
  },
  {
   "cell_type": "code",
   "execution_count": 99,
   "metadata": {
    "collapsed": false
   },
   "outputs": [],
   "source": [
    "def data_scientists_who_like(target_interest):\n",
    "    return [user_id\n",
    "            for user_id,user_interest in interests\n",
    "            if user_interest == target_interest\n",
    "           ]"
   ]
  },
  {
   "cell_type": "markdown",
   "metadata": {},
   "source": [
    "### index user ids by interests"
   ]
  },
  {
   "cell_type": "code",
   "execution_count": 101,
   "metadata": {
    "collapsed": true
   },
   "outputs": [],
   "source": [
    "from collections import defaultdict\n",
    "\n",
    "user_ids_by_interest = defaultdict(list)\n",
    "\n",
    "for user_id,interest in interests:\n",
    "    user_ids_by_interest[interest].append(user_id)"
   ]
  },
  {
   "cell_type": "markdown",
   "metadata": {},
   "source": [
    "### index interests by user id"
   ]
  },
  {
   "cell_type": "code",
   "execution_count": 103,
   "metadata": {
    "collapsed": true
   },
   "outputs": [],
   "source": [
    "interests_by_user_id = defaultdict(list)\n",
    "\n",
    "for user_id,interest in interests:\n",
    "    interests_by_user_id[user_id].append(interest)"
   ]
  },
  {
   "cell_type": "code",
   "execution_count": 105,
   "metadata": {
    "collapsed": false
   },
   "outputs": [],
   "source": [
    "def most_common_interests_with(user):\n",
    "    return Counter(interested_user_id\n",
    "                  for interest in interests_by_user_id[user['id']]\n",
    "                  for interested_user_id in user_ids_by_interest[interest]\n",
    "                  if interested_user_id != user['id'])"
   ]
  },
  {
   "cell_type": "markdown",
   "metadata": {},
   "source": [
    "### salaries and experience"
   ]
  },
  {
   "cell_type": "code",
   "execution_count": 115,
   "metadata": {
    "collapsed": true
   },
   "outputs": [],
   "source": [
    "salaries_and_tenures = [\n",
    "    (83000,8.7)\n",
    "    ,(88000,8.1)\n",
    "    ,(48000,0.7)\n",
    "    ,(76000,6)\n",
    "    ,(69000,6.5)\n",
    "    ,(76000,7.5)\n",
    "    ,(60000,2.5)\n",
    "    ,(83000,10)\n",
    "    ,(48000,1.9)\n",
    "    ,(63000,4.2)\n",
    "]"
   ]
  },
  {
   "cell_type": "code",
   "execution_count": 116,
   "metadata": {
    "collapsed": true
   },
   "outputs": [],
   "source": [
    "salary_by_tenure = defaultdict(list)\n",
    "\n",
    "for salary,tenure in salaries_and_tenures:\n",
    "    salary_by_tenure[tenure].append(salary)"
   ]
  },
  {
   "cell_type": "code",
   "execution_count": 117,
   "metadata": {
    "collapsed": true
   },
   "outputs": [],
   "source": [
    "average_salary_by_tenure = {\n",
    "    tenure: sum(salaries) / len(salaries)\n",
    "    for tenure,salaries in salary_by_tenure.items()\n",
    "}"
   ]
  },
  {
   "cell_type": "code",
   "execution_count": 119,
   "metadata": {
    "collapsed": false
   },
   "outputs": [],
   "source": [
    "def tenure_bucket(tenure):\n",
    "    if tenure < 2:\n",
    "        return 'less than two'\n",
    "    elif tenure < 5:\n",
    "        return 'between two and five'\n",
    "    else:\n",
    "        return 'more than five'"
   ]
  },
  {
   "cell_type": "markdown",
   "metadata": {},
   "source": [
    "### group salaries into buckets"
   ]
  },
  {
   "cell_type": "code",
   "execution_count": 120,
   "metadata": {
    "collapsed": true
   },
   "outputs": [],
   "source": [
    "salary_by_tenure_bucket = defaultdict(list)\n",
    "\n",
    "for salary,tenure in salaries_and_tenures:\n",
    "    bucket = tenure_bucket(tenure)\n",
    "    salary_by_tenure_bucket[bucket].append(salary)"
   ]
  },
  {
   "cell_type": "markdown",
   "metadata": {},
   "source": [
    "### compute average salary for each group"
   ]
  },
  {
   "cell_type": "code",
   "execution_count": 153,
   "metadata": {
    "collapsed": false
   },
   "outputs": [],
   "source": [
    "average_salary_by_bucket = {\n",
    "    tenure_bucket: sum(salaries) / len(salaries)\n",
    "    for tenure_bucket,salaries in salary_by_tenure_bucket.iteritems()\n",
    "}"
   ]
  },
  {
   "cell_type": "code",
   "execution_count": 161,
   "metadata": {
    "collapsed": false
   },
   "outputs": [],
   "source": [
    "words_and_counts = Counter(word\n",
    "                          for user,interest in interests\n",
    "                          for word in interest.lower().split())"
   ]
  },
  {
   "cell_type": "code",
   "execution_count": 163,
   "metadata": {
    "collapsed": false
   },
   "outputs": [
    {
     "name": "stdout",
     "output_type": "stream",
     "text": [
      "learning 3\n",
      "java 3\n",
      "python 3\n",
      "big 3\n",
      "data 3\n",
      "hbase 2\n",
      "regression 2\n",
      "cassandra 2\n",
      "statistics 2\n",
      "probability 2\n",
      "hadoop 2\n",
      "networks 2\n",
      "machine 2\n",
      "neural 2\n",
      "scikit-learn 2\n",
      "r 2\n"
     ]
    }
   ],
   "source": [
    "for word,count in words_and_counts.most_common():\n",
    "    if count > 1:\n",
    "        print word,count"
   ]
  }
 ],
 "metadata": {
  "kernelspec": {
   "display_name": "Python 2",
   "language": "python",
   "name": "python2"
  },
  "language_info": {
   "codemirror_mode": {
    "name": "ipython",
    "version": 2
   },
   "file_extension": ".py",
   "mimetype": "text/x-python",
   "name": "python",
   "nbconvert_exporter": "python",
   "pygments_lexer": "ipython2",
   "version": "2.7.12"
  }
 },
 "nbformat": 4,
 "nbformat_minor": 1
}
